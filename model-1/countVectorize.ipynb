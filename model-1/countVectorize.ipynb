{
 "cells": [
  {
   "cell_type": "code",
   "execution_count": 1,
   "id": "ad5cac2d",
   "metadata": {},
   "outputs": [],
   "source": [
    "import pandas as pd\n",
    "import re\n",
    "from indicnlp.tokenize import indic_tokenize"
   ]
  },
  {
   "cell_type": "code",
   "execution_count": 2,
   "id": "c191f100",
   "metadata": {},
   "outputs": [],
   "source": [
    "df = pd.read_csv('data/processed_data.csv', encoding='utf-8')"
   ]
  },
  {
   "cell_type": "code",
   "execution_count": 3,
   "id": "3199c0f0",
   "metadata": {},
   "outputs": [
    {
     "data": {
      "text/plain": [
       "(                                               Hindi  \\\n",
       " 0  कुछ वर्षों पहले मुझे ऐसा लगा जैसे मैं किसी उदा...   \n",
       " 1                          यह विचार बहुत ही सरल है |   \n",
       " 2  ऐसे किसी चीज के बारे में सोचिये जिसे आप हमेशा ...   \n",
       " 3  यह पता चला है कि 30 दिन पर्याप्त समय है, कोई न...   \n",
       " 4  इस 30 दिन की चुनौतियों के दौरान मैंने कुछ बाते...   \n",
       " \n",
       "                                               Telugu  \n",
       " 0  కొన్ని సంవత్సరాల ముందు, నేను బాగా ఆచరానములో ఉన...  \n",
       " 1                            ఈ ఆలోచన చాలా సులభమైనది.  \n",
       " 2  మీ జీవితములో మీరు చేయాలి అనుకునే పనిని ఆలోచించ...  \n",
       " 3  ఫలితము దక్కుతుంది. 30 రోజులనేది మీ జీవితములో ఒ...  \n",
       " 4  ఈ 30 రోజులు పాటించే విధానములో నేను కొన్ని విషయ...  ,\n",
       " Hindi     2648\n",
       " Telugu    2648\n",
       " dtype: int64)"
      ]
     },
     "execution_count": 3,
     "metadata": {},
     "output_type": "execute_result"
    }
   ],
   "source": [
    "df.head(), df.count()"
   ]
  },
  {
   "cell_type": "code",
   "execution_count": 4,
   "id": "024e8fa4",
   "metadata": {},
   "outputs": [],
   "source": [
    "from indicnlp.tokenize import indic_tokenize"
   ]
  },
  {
   "cell_type": "code",
   "execution_count": 5,
   "id": "5f4d4e71",
   "metadata": {},
   "outputs": [],
   "source": [
    "df['Hindi'] = df['Hindi'].astype(str)\n",
    "df['Telugu'] = df['Telugu'].astype(str)\n",
    "df['Hindi'] = df['Hindi'].apply(lambda x: re.sub(r'\\s+', ' ', x).strip())\n",
    "df['Telugu'] = df['Telugu'].apply(lambda x: re.sub(r'\\s+', ' ', x).strip())"
   ]
  },
  {
   "cell_type": "code",
   "execution_count": 6,
   "id": "1d783020",
   "metadata": {},
   "outputs": [
    {
     "data": {
      "text/html": [
       "<div>\n",
       "<style scoped>\n",
       "    .dataframe tbody tr th:only-of-type {\n",
       "        vertical-align: middle;\n",
       "    }\n",
       "\n",
       "    .dataframe tbody tr th {\n",
       "        vertical-align: top;\n",
       "    }\n",
       "\n",
       "    .dataframe thead th {\n",
       "        text-align: right;\n",
       "    }\n",
       "</style>\n",
       "<table border=\"1\" class=\"dataframe\">\n",
       "  <thead>\n",
       "    <tr style=\"text-align: right;\">\n",
       "      <th></th>\n",
       "      <th>Hindi</th>\n",
       "      <th>Telugu</th>\n",
       "    </tr>\n",
       "  </thead>\n",
       "  <tbody>\n",
       "    <tr>\n",
       "      <th>0</th>\n",
       "      <td>कुछ वर्षों पहले मुझे ऐसा लगा जैसे मैं किसी उदा...</td>\n",
       "      <td>కొన్ని సంవత్సరాల ముందు, నేను బాగా ఆచరానములో ఉన...</td>\n",
       "    </tr>\n",
       "    <tr>\n",
       "      <th>1</th>\n",
       "      <td>यह विचार बहुत ही सरल है |</td>\n",
       "      <td>ఈ ఆలోచన చాలా సులభమైనది.</td>\n",
       "    </tr>\n",
       "    <tr>\n",
       "      <th>2</th>\n",
       "      <td>ऐसे किसी चीज के बारे में सोचिये जिसे आप हमेशा ...</td>\n",
       "      <td>మీ జీవితములో మీరు చేయాలి అనుకునే పనిని ఆలోచించ...</td>\n",
       "    </tr>\n",
       "    <tr>\n",
       "      <th>3</th>\n",
       "      <td>यह पता चला है कि 30 दिन पर्याप्त समय है, कोई न...</td>\n",
       "      <td>ఫలితము దక్కుతుంది. 30 రోజులనేది మీ జీవితములో ఒ...</td>\n",
       "    </tr>\n",
       "    <tr>\n",
       "      <th>4</th>\n",
       "      <td>इस 30 दिन की चुनौतियों के दौरान मैंने कुछ बाते...</td>\n",
       "      <td>ఈ 30 రోజులు పాటించే విధానములో నేను కొన్ని విషయ...</td>\n",
       "    </tr>\n",
       "  </tbody>\n",
       "</table>\n",
       "</div>"
      ],
      "text/plain": [
       "                                               Hindi  \\\n",
       "0  कुछ वर्षों पहले मुझे ऐसा लगा जैसे मैं किसी उदा...   \n",
       "1                          यह विचार बहुत ही सरल है |   \n",
       "2  ऐसे किसी चीज के बारे में सोचिये जिसे आप हमेशा ...   \n",
       "3  यह पता चला है कि 30 दिन पर्याप्त समय है, कोई न...   \n",
       "4  इस 30 दिन की चुनौतियों के दौरान मैंने कुछ बाते...   \n",
       "\n",
       "                                              Telugu  \n",
       "0  కొన్ని సంవత్సరాల ముందు, నేను బాగా ఆచరానములో ఉన...  \n",
       "1                            ఈ ఆలోచన చాలా సులభమైనది.  \n",
       "2  మీ జీవితములో మీరు చేయాలి అనుకునే పనిని ఆలోచించ...  \n",
       "3  ఫలితము దక్కుతుంది. 30 రోజులనేది మీ జీవితములో ఒ...  \n",
       "4  ఈ 30 రోజులు పాటించే విధానములో నేను కొన్ని విషయ...  "
      ]
     },
     "execution_count": 6,
     "metadata": {},
     "output_type": "execute_result"
    }
   ],
   "source": [
    "df.head()"
   ]
  },
  {
   "cell_type": "code",
   "execution_count": 7,
   "id": "2b1f25a9",
   "metadata": {},
   "outputs": [
    {
     "name": "stderr",
     "output_type": "stream",
     "text": [
      "C:\\Users\\bhavi\\AppData\\Local\\Temp\\ipykernel_15464\\2694756595.py:3: FutureWarning: The default value of regex will change from True to False in a future version. In addition, single character regular expressions will *not* be treated as literal strings when regex=True.\n",
      "  df['Hindi'] = df['Hindi'].str.replace(pattern, '')\n",
      "C:\\Users\\bhavi\\AppData\\Local\\Temp\\ipykernel_15464\\2694756595.py:4: FutureWarning: The default value of regex will change from True to False in a future version. In addition, single character regular expressions will *not* be treated as literal strings when regex=True.\n",
      "  df['Telugu'] = df['Telugu'].str.replace(pattern, '')\n"
     ]
    }
   ],
   "source": [
    "pattern = r'|'\n",
    "\n",
    "df['Hindi'] = df['Hindi'].str.replace(pattern, '')\n",
    "df['Telugu'] = df['Telugu'].str.replace(pattern, '')"
   ]
  },
  {
   "cell_type": "code",
   "execution_count": 8,
   "id": "5b692549",
   "metadata": {},
   "outputs": [
    {
     "data": {
      "text/html": [
       "<div>\n",
       "<style scoped>\n",
       "    .dataframe tbody tr th:only-of-type {\n",
       "        vertical-align: middle;\n",
       "    }\n",
       "\n",
       "    .dataframe tbody tr th {\n",
       "        vertical-align: top;\n",
       "    }\n",
       "\n",
       "    .dataframe thead th {\n",
       "        text-align: right;\n",
       "    }\n",
       "</style>\n",
       "<table border=\"1\" class=\"dataframe\">\n",
       "  <thead>\n",
       "    <tr style=\"text-align: right;\">\n",
       "      <th></th>\n",
       "      <th>Hindi</th>\n",
       "      <th>Telugu</th>\n",
       "    </tr>\n",
       "  </thead>\n",
       "  <tbody>\n",
       "    <tr>\n",
       "      <th>0</th>\n",
       "      <td>कुछ वर्षों पहले मुझे ऐसा लगा जैसे मैं किसी उदा...</td>\n",
       "      <td>కొన్ని సంవత్సరాల ముందు, నేను బాగా ఆచరానములో ఉన...</td>\n",
       "    </tr>\n",
       "    <tr>\n",
       "      <th>1</th>\n",
       "      <td>यह विचार बहुत ही सरल है</td>\n",
       "      <td>ఈ ఆలోచన చాలా సులభమైనది.</td>\n",
       "    </tr>\n",
       "    <tr>\n",
       "      <th>2</th>\n",
       "      <td>ऐसे किसी चीज के बारे में सोचिये जिसे आप हमेशा ...</td>\n",
       "      <td>మీ జీవితములో మీరు చేయాలి అనుకునే పనిని ఆలోచించ...</td>\n",
       "    </tr>\n",
       "    <tr>\n",
       "      <th>3</th>\n",
       "      <td>यह पता चला है कि 30 दिन पर्याप्त समय है, कोई न...</td>\n",
       "      <td>ఫలితము దక్కుతుంది. 30 రోజులనేది మీ జీవితములో ఒ...</td>\n",
       "    </tr>\n",
       "    <tr>\n",
       "      <th>4</th>\n",
       "      <td>इस 30 दिन की चुनौतियों के दौरान मैंने कुछ बाते...</td>\n",
       "      <td>ఈ 30 రోజులు పాటించే విధానములో నేను కొన్ని విషయ...</td>\n",
       "    </tr>\n",
       "  </tbody>\n",
       "</table>\n",
       "</div>"
      ],
      "text/plain": [
       "                                               Hindi  \\\n",
       "0  कुछ वर्षों पहले मुझे ऐसा लगा जैसे मैं किसी उदा...   \n",
       "1                           यह विचार बहुत ही सरल है    \n",
       "2  ऐसे किसी चीज के बारे में सोचिये जिसे आप हमेशा ...   \n",
       "3  यह पता चला है कि 30 दिन पर्याप्त समय है, कोई न...   \n",
       "4  इस 30 दिन की चुनौतियों के दौरान मैंने कुछ बाते...   \n",
       "\n",
       "                                              Telugu  \n",
       "0  కొన్ని సంవత్సరాల ముందు, నేను బాగా ఆచరానములో ఉన...  \n",
       "1                            ఈ ఆలోచన చాలా సులభమైనది.  \n",
       "2  మీ జీవితములో మీరు చేయాలి అనుకునే పనిని ఆలోచించ...  \n",
       "3  ఫలితము దక్కుతుంది. 30 రోజులనేది మీ జీవితములో ఒ...  \n",
       "4  ఈ 30 రోజులు పాటించే విధానములో నేను కొన్ని విషయ...  "
      ]
     },
     "execution_count": 8,
     "metadata": {},
     "output_type": "execute_result"
    }
   ],
   "source": [
    "df.head()"
   ]
  },
  {
   "cell_type": "code",
   "execution_count": 9,
   "id": "9a8efe19",
   "metadata": {},
   "outputs": [],
   "source": [
    "df['Hindi_Tokens'] = df['Hindi'].apply(lambda x:indic_tokenize.trivial_tokenize(x))\n",
    "df['Telugu_Tokens'] = df['Telugu'].apply(lambda x:indic_tokenize.trivial_tokenize(x))"
   ]
  },
  {
   "cell_type": "code",
   "execution_count": 10,
   "id": "84632ae9",
   "metadata": {},
   "outputs": [
    {
     "data": {
      "text/html": [
       "<div>\n",
       "<style scoped>\n",
       "    .dataframe tbody tr th:only-of-type {\n",
       "        vertical-align: middle;\n",
       "    }\n",
       "\n",
       "    .dataframe tbody tr th {\n",
       "        vertical-align: top;\n",
       "    }\n",
       "\n",
       "    .dataframe thead th {\n",
       "        text-align: right;\n",
       "    }\n",
       "</style>\n",
       "<table border=\"1\" class=\"dataframe\">\n",
       "  <thead>\n",
       "    <tr style=\"text-align: right;\">\n",
       "      <th></th>\n",
       "      <th>Hindi</th>\n",
       "      <th>Telugu</th>\n",
       "      <th>Hindi_Tokens</th>\n",
       "      <th>Telugu_Tokens</th>\n",
       "    </tr>\n",
       "  </thead>\n",
       "  <tbody>\n",
       "    <tr>\n",
       "      <th>0</th>\n",
       "      <td>कुछ वर्षों पहले मुझे ऐसा लगा जैसे मैं किसी उदा...</td>\n",
       "      <td>కొన్ని సంవత్సరాల ముందు, నేను బాగా ఆచరానములో ఉన...</td>\n",
       "      <td>[कुछ, वर्षों, पहले, मुझे, ऐसा, लगा, जैसे, मैं,...</td>\n",
       "      <td>[కొన్ని, సంవత్సరాల, ముందు, ,, నేను, బాగా, ఆచరా...</td>\n",
       "    </tr>\n",
       "    <tr>\n",
       "      <th>1</th>\n",
       "      <td>यह विचार बहुत ही सरल है</td>\n",
       "      <td>ఈ ఆలోచన చాలా సులభమైనది.</td>\n",
       "      <td>[यह, विचार, बहुत, ही, सरल, है]</td>\n",
       "      <td>[ఈ, ఆలోచన, చాలా, సులభమైనది, .]</td>\n",
       "    </tr>\n",
       "    <tr>\n",
       "      <th>2</th>\n",
       "      <td>ऐसे किसी चीज के बारे में सोचिये जिसे आप हमेशा ...</td>\n",
       "      <td>మీ జీవితములో మీరు చేయాలి అనుకునే పనిని ఆలోచించ...</td>\n",
       "      <td>[ऐसे, किसी, चीज, के, बारे, में, सोचिये, जिसे, ...</td>\n",
       "      <td>[మీ, జీవితములో, మీరు, చేయాలి, అనుకునే, పనిని, ...</td>\n",
       "    </tr>\n",
       "    <tr>\n",
       "      <th>3</th>\n",
       "      <td>यह पता चला है कि 30 दिन पर्याप्त समय है, कोई न...</td>\n",
       "      <td>ఫలితము దక్కుతుంది. 30 రోజులనేది మీ జీవితములో ఒ...</td>\n",
       "      <td>[यह, पता, चला, है, कि, 30, दिन, पर्याप्त, समय,...</td>\n",
       "      <td>[ఫలితము, దక్కుతుంది, ., 30, రోజులనేది, మీ, జీవ...</td>\n",
       "    </tr>\n",
       "    <tr>\n",
       "      <th>4</th>\n",
       "      <td>इस 30 दिन की चुनौतियों के दौरान मैंने कुछ बाते...</td>\n",
       "      <td>ఈ 30 రోజులు పాటించే విధానములో నేను కొన్ని విషయ...</td>\n",
       "      <td>[इस, 30, दिन, की, चुनौतियों, के, दौरान, मैंने,...</td>\n",
       "      <td>[ఈ, 30, రోజులు, పాటించే, విధానములో, నేను, కొన్...</td>\n",
       "    </tr>\n",
       "  </tbody>\n",
       "</table>\n",
       "</div>"
      ],
      "text/plain": [
       "                                               Hindi  \\\n",
       "0  कुछ वर्षों पहले मुझे ऐसा लगा जैसे मैं किसी उदा...   \n",
       "1                           यह विचार बहुत ही सरल है    \n",
       "2  ऐसे किसी चीज के बारे में सोचिये जिसे आप हमेशा ...   \n",
       "3  यह पता चला है कि 30 दिन पर्याप्त समय है, कोई न...   \n",
       "4  इस 30 दिन की चुनौतियों के दौरान मैंने कुछ बाते...   \n",
       "\n",
       "                                              Telugu  \\\n",
       "0  కొన్ని సంవత్సరాల ముందు, నేను బాగా ఆచరానములో ఉన...   \n",
       "1                            ఈ ఆలోచన చాలా సులభమైనది.   \n",
       "2  మీ జీవితములో మీరు చేయాలి అనుకునే పనిని ఆలోచించ...   \n",
       "3  ఫలితము దక్కుతుంది. 30 రోజులనేది మీ జీవితములో ఒ...   \n",
       "4  ఈ 30 రోజులు పాటించే విధానములో నేను కొన్ని విషయ...   \n",
       "\n",
       "                                        Hindi_Tokens  \\\n",
       "0  [कुछ, वर्षों, पहले, मुझे, ऐसा, लगा, जैसे, मैं,...   \n",
       "1                     [यह, विचार, बहुत, ही, सरल, है]   \n",
       "2  [ऐसे, किसी, चीज, के, बारे, में, सोचिये, जिसे, ...   \n",
       "3  [यह, पता, चला, है, कि, 30, दिन, पर्याप्त, समय,...   \n",
       "4  [इस, 30, दिन, की, चुनौतियों, के, दौरान, मैंने,...   \n",
       "\n",
       "                                       Telugu_Tokens  \n",
       "0  [కొన్ని, సంవత్సరాల, ముందు, ,, నేను, బాగా, ఆచరా...  \n",
       "1                     [ఈ, ఆలోచన, చాలా, సులభమైనది, .]  \n",
       "2  [మీ, జీవితములో, మీరు, చేయాలి, అనుకునే, పనిని, ...  \n",
       "3  [ఫలితము, దక్కుతుంది, ., 30, రోజులనేది, మీ, జీవ...  \n",
       "4  [ఈ, 30, రోజులు, పాటించే, విధానములో, నేను, కొన్...  "
      ]
     },
     "execution_count": 10,
     "metadata": {},
     "output_type": "execute_result"
    }
   ],
   "source": [
    "df.head()"
   ]
  },
  {
   "cell_type": "code",
   "execution_count": 11,
   "id": "ed6742aa",
   "metadata": {},
   "outputs": [],
   "source": [
    "tokenized_df = df[['Hindi_Tokens', 'Telugu_Tokens']]\n",
    "preprocessed_df = df[['Hindi', 'Telugu']]"
   ]
  },
  {
   "cell_type": "code",
   "execution_count": 12,
   "id": "7aa4cfef",
   "metadata": {},
   "outputs": [
    {
     "data": {
      "text/html": [
       "<div>\n",
       "<style scoped>\n",
       "    .dataframe tbody tr th:only-of-type {\n",
       "        vertical-align: middle;\n",
       "    }\n",
       "\n",
       "    .dataframe tbody tr th {\n",
       "        vertical-align: top;\n",
       "    }\n",
       "\n",
       "    .dataframe thead th {\n",
       "        text-align: right;\n",
       "    }\n",
       "</style>\n",
       "<table border=\"1\" class=\"dataframe\">\n",
       "  <thead>\n",
       "    <tr style=\"text-align: right;\">\n",
       "      <th></th>\n",
       "      <th>Hindi_Tokens</th>\n",
       "      <th>Telugu_Tokens</th>\n",
       "    </tr>\n",
       "  </thead>\n",
       "  <tbody>\n",
       "    <tr>\n",
       "      <th>0</th>\n",
       "      <td>[कुछ, वर्षों, पहले, मुझे, ऐसा, लगा, जैसे, मैं,...</td>\n",
       "      <td>[కొన్ని, సంవత్సరాల, ముందు, ,, నేను, బాగా, ఆచరా...</td>\n",
       "    </tr>\n",
       "    <tr>\n",
       "      <th>1</th>\n",
       "      <td>[यह, विचार, बहुत, ही, सरल, है]</td>\n",
       "      <td>[ఈ, ఆలోచన, చాలా, సులభమైనది, .]</td>\n",
       "    </tr>\n",
       "    <tr>\n",
       "      <th>2</th>\n",
       "      <td>[ऐसे, किसी, चीज, के, बारे, में, सोचिये, जिसे, ...</td>\n",
       "      <td>[మీ, జీవితములో, మీరు, చేయాలి, అనుకునే, పనిని, ...</td>\n",
       "    </tr>\n",
       "    <tr>\n",
       "      <th>3</th>\n",
       "      <td>[यह, पता, चला, है, कि, 30, दिन, पर्याप्त, समय,...</td>\n",
       "      <td>[ఫలితము, దక్కుతుంది, ., 30, రోజులనేది, మీ, జీవ...</td>\n",
       "    </tr>\n",
       "    <tr>\n",
       "      <th>4</th>\n",
       "      <td>[इस, 30, दिन, की, चुनौतियों, के, दौरान, मैंने,...</td>\n",
       "      <td>[ఈ, 30, రోజులు, పాటించే, విధానములో, నేను, కొన్...</td>\n",
       "    </tr>\n",
       "  </tbody>\n",
       "</table>\n",
       "</div>"
      ],
      "text/plain": [
       "                                        Hindi_Tokens  \\\n",
       "0  [कुछ, वर्षों, पहले, मुझे, ऐसा, लगा, जैसे, मैं,...   \n",
       "1                     [यह, विचार, बहुत, ही, सरल, है]   \n",
       "2  [ऐसे, किसी, चीज, के, बारे, में, सोचिये, जिसे, ...   \n",
       "3  [यह, पता, चला, है, कि, 30, दिन, पर्याप्त, समय,...   \n",
       "4  [इस, 30, दिन, की, चुनौतियों, के, दौरान, मैंने,...   \n",
       "\n",
       "                                       Telugu_Tokens  \n",
       "0  [కొన్ని, సంవత్సరాల, ముందు, ,, నేను, బాగా, ఆచరా...  \n",
       "1                     [ఈ, ఆలోచన, చాలా, సులభమైనది, .]  \n",
       "2  [మీ, జీవితములో, మీరు, చేయాలి, అనుకునే, పనిని, ...  \n",
       "3  [ఫలితము, దక్కుతుంది, ., 30, రోజులనేది, మీ, జీవ...  \n",
       "4  [ఈ, 30, రోజులు, పాటించే, విధానములో, నేను, కొన్...  "
      ]
     },
     "execution_count": 12,
     "metadata": {},
     "output_type": "execute_result"
    }
   ],
   "source": [
    "tokenized_df.head()"
   ]
  },
  {
   "cell_type": "code",
   "execution_count": 13,
   "id": "109705f7",
   "metadata": {},
   "outputs": [
    {
     "data": {
      "text/html": [
       "<div>\n",
       "<style scoped>\n",
       "    .dataframe tbody tr th:only-of-type {\n",
       "        vertical-align: middle;\n",
       "    }\n",
       "\n",
       "    .dataframe tbody tr th {\n",
       "        vertical-align: top;\n",
       "    }\n",
       "\n",
       "    .dataframe thead th {\n",
       "        text-align: right;\n",
       "    }\n",
       "</style>\n",
       "<table border=\"1\" class=\"dataframe\">\n",
       "  <thead>\n",
       "    <tr style=\"text-align: right;\">\n",
       "      <th></th>\n",
       "      <th>Hindi</th>\n",
       "      <th>Telugu</th>\n",
       "    </tr>\n",
       "  </thead>\n",
       "  <tbody>\n",
       "    <tr>\n",
       "      <th>0</th>\n",
       "      <td>कुछ वर्षों पहले मुझे ऐसा लगा जैसे मैं किसी उदा...</td>\n",
       "      <td>కొన్ని సంవత్సరాల ముందు, నేను బాగా ఆచరానములో ఉన...</td>\n",
       "    </tr>\n",
       "    <tr>\n",
       "      <th>1</th>\n",
       "      <td>यह विचार बहुत ही सरल है</td>\n",
       "      <td>ఈ ఆలోచన చాలా సులభమైనది.</td>\n",
       "    </tr>\n",
       "    <tr>\n",
       "      <th>2</th>\n",
       "      <td>ऐसे किसी चीज के बारे में सोचिये जिसे आप हमेशा ...</td>\n",
       "      <td>మీ జీవితములో మీరు చేయాలి అనుకునే పనిని ఆలోచించ...</td>\n",
       "    </tr>\n",
       "    <tr>\n",
       "      <th>3</th>\n",
       "      <td>यह पता चला है कि 30 दिन पर्याप्त समय है, कोई न...</td>\n",
       "      <td>ఫలితము దక్కుతుంది. 30 రోజులనేది మీ జీవితములో ఒ...</td>\n",
       "    </tr>\n",
       "    <tr>\n",
       "      <th>4</th>\n",
       "      <td>इस 30 दिन की चुनौतियों के दौरान मैंने कुछ बाते...</td>\n",
       "      <td>ఈ 30 రోజులు పాటించే విధానములో నేను కొన్ని విషయ...</td>\n",
       "    </tr>\n",
       "  </tbody>\n",
       "</table>\n",
       "</div>"
      ],
      "text/plain": [
       "                                               Hindi  \\\n",
       "0  कुछ वर्षों पहले मुझे ऐसा लगा जैसे मैं किसी उदा...   \n",
       "1                           यह विचार बहुत ही सरल है    \n",
       "2  ऐसे किसी चीज के बारे में सोचिये जिसे आप हमेशा ...   \n",
       "3  यह पता चला है कि 30 दिन पर्याप्त समय है, कोई न...   \n",
       "4  इस 30 दिन की चुनौतियों के दौरान मैंने कुछ बाते...   \n",
       "\n",
       "                                              Telugu  \n",
       "0  కొన్ని సంవత్సరాల ముందు, నేను బాగా ఆచరానములో ఉన...  \n",
       "1                            ఈ ఆలోచన చాలా సులభమైనది.  \n",
       "2  మీ జీవితములో మీరు చేయాలి అనుకునే పనిని ఆలోచించ...  \n",
       "3  ఫలితము దక్కుతుంది. 30 రోజులనేది మీ జీవితములో ఒ...  \n",
       "4  ఈ 30 రోజులు పాటించే విధానములో నేను కొన్ని విషయ...  "
      ]
     },
     "execution_count": 13,
     "metadata": {},
     "output_type": "execute_result"
    }
   ],
   "source": [
    "preprocessed_df.head()"
   ]
  },
  {
   "cell_type": "code",
   "execution_count": 14,
   "id": "6f915346",
   "metadata": {},
   "outputs": [],
   "source": [
    "tokenized_df.to_csv('data/tokenized_data.csv', index=False, encoding='utf-8')\n",
    "preprocessed_df.to_csv('data/preprocessed_data.csv', index=False, encoding='utf-8')"
   ]
  }
 ],
 "metadata": {
  "kernelspec": {
   "display_name": "Python 3 (ipykernel)",
   "language": "python",
   "name": "python3"
  },
  "language_info": {
   "codemirror_mode": {
    "name": "ipython",
    "version": 3
   },
   "file_extension": ".py",
   "mimetype": "text/x-python",
   "name": "python",
   "nbconvert_exporter": "python",
   "pygments_lexer": "ipython3",
   "version": "3.11.4"
  }
 },
 "nbformat": 4,
 "nbformat_minor": 5
}
