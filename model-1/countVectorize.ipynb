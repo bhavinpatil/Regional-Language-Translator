{
 "cells": [
  {
   "cell_type": "code",
   "execution_count": 1,
   "id": "1ebb9811",
   "metadata": {},
   "outputs": [
    {
     "name": "stdout",
     "output_type": "stream",
     "text": [
      "Requirement already satisfied: indic-nlp-library in c:\\users\\bhavin\\appdata\\local\\anaconda3\\lib\\site-packages (0.92)\n",
      "Requirement already satisfied: sphinx-argparse in c:\\users\\bhavin\\appdata\\local\\anaconda3\\lib\\site-packages (from indic-nlp-library) (0.4.0)\n",
      "Requirement already satisfied: sphinx-rtd-theme in c:\\users\\bhavin\\appdata\\local\\anaconda3\\lib\\site-packages (from indic-nlp-library) (1.3.0)\n",
      "Requirement already satisfied: morfessor in c:\\users\\bhavin\\appdata\\local\\anaconda3\\lib\\site-packages (from indic-nlp-library) (2.0.6)\n",
      "Requirement already satisfied: pandas in c:\\users\\bhavin\\appdata\\local\\anaconda3\\lib\\site-packages (from indic-nlp-library) (1.5.3)\n",
      "Requirement already satisfied: numpy in c:\\users\\bhavin\\appdata\\local\\anaconda3\\lib\\site-packages (from indic-nlp-library) (1.24.3)\n",
      "Requirement already satisfied: python-dateutil>=2.8.1 in c:\\users\\bhavin\\appdata\\local\\anaconda3\\lib\\site-packages (from pandas->indic-nlp-library) (2.8.2)\n",
      "Requirement already satisfied: pytz>=2020.1 in c:\\users\\bhavin\\appdata\\local\\anaconda3\\lib\\site-packages (from pandas->indic-nlp-library) (2022.7)\n",
      "Requirement already satisfied: sphinx>=1.2.0 in c:\\users\\bhavin\\appdata\\local\\anaconda3\\lib\\site-packages (from sphinx-argparse->indic-nlp-library) (5.0.2)\n",
      "Requirement already satisfied: docutils<0.19 in c:\\users\\bhavin\\appdata\\local\\anaconda3\\lib\\site-packages (from sphinx-rtd-theme->indic-nlp-library) (0.18.1)\n",
      "Requirement already satisfied: sphinxcontrib-jquery<5,>=4 in c:\\users\\bhavin\\appdata\\local\\anaconda3\\lib\\site-packages (from sphinx-rtd-theme->indic-nlp-library) (4.1)\n",
      "Requirement already satisfied: six>=1.5 in c:\\users\\bhavin\\appdata\\local\\anaconda3\\lib\\site-packages (from python-dateutil>=2.8.1->pandas->indic-nlp-library) (1.16.0)\n",
      "Requirement already satisfied: sphinxcontrib-applehelp in c:\\users\\bhavin\\appdata\\local\\anaconda3\\lib\\site-packages (from sphinx>=1.2.0->sphinx-argparse->indic-nlp-library) (1.0.2)\n",
      "Requirement already satisfied: sphinxcontrib-devhelp in c:\\users\\bhavin\\appdata\\local\\anaconda3\\lib\\site-packages (from sphinx>=1.2.0->sphinx-argparse->indic-nlp-library) (1.0.2)\n",
      "Requirement already satisfied: sphinxcontrib-jsmath in c:\\users\\bhavin\\appdata\\local\\anaconda3\\lib\\site-packages (from sphinx>=1.2.0->sphinx-argparse->indic-nlp-library) (1.0.1)\n",
      "Requirement already satisfied: sphinxcontrib-htmlhelp>=2.0.0 in c:\\users\\bhavin\\appdata\\local\\anaconda3\\lib\\site-packages (from sphinx>=1.2.0->sphinx-argparse->indic-nlp-library) (2.0.0)\n",
      "Requirement already satisfied: sphinxcontrib-serializinghtml>=1.1.5 in c:\\users\\bhavin\\appdata\\local\\anaconda3\\lib\\site-packages (from sphinx>=1.2.0->sphinx-argparse->indic-nlp-library) (1.1.5)\n",
      "Requirement already satisfied: sphinxcontrib-qthelp in c:\\users\\bhavin\\appdata\\local\\anaconda3\\lib\\site-packages (from sphinx>=1.2.0->sphinx-argparse->indic-nlp-library) (1.0.3)\n",
      "Requirement already satisfied: Jinja2>=2.3 in c:\\users\\bhavin\\appdata\\local\\anaconda3\\lib\\site-packages (from sphinx>=1.2.0->sphinx-argparse->indic-nlp-library) (3.1.2)\n",
      "Requirement already satisfied: Pygments>=2.0 in c:\\users\\bhavin\\appdata\\local\\anaconda3\\lib\\site-packages (from sphinx>=1.2.0->sphinx-argparse->indic-nlp-library) (2.15.1)\n",
      "Requirement already satisfied: snowballstemmer>=1.1 in c:\\users\\bhavin\\appdata\\local\\anaconda3\\lib\\site-packages (from sphinx>=1.2.0->sphinx-argparse->indic-nlp-library) (2.2.0)\n",
      "Requirement already satisfied: babel>=1.3 in c:\\users\\bhavin\\appdata\\local\\anaconda3\\lib\\site-packages (from sphinx>=1.2.0->sphinx-argparse->indic-nlp-library) (2.11.0)\n",
      "Requirement already satisfied: alabaster<0.8,>=0.7 in c:\\users\\bhavin\\appdata\\local\\anaconda3\\lib\\site-packages (from sphinx>=1.2.0->sphinx-argparse->indic-nlp-library) (0.7.12)\n",
      "Requirement already satisfied: imagesize in c:\\users\\bhavin\\appdata\\local\\anaconda3\\lib\\site-packages (from sphinx>=1.2.0->sphinx-argparse->indic-nlp-library) (1.4.1)\n",
      "Requirement already satisfied: requests>=2.5.0 in c:\\users\\bhavin\\appdata\\local\\anaconda3\\lib\\site-packages (from sphinx>=1.2.0->sphinx-argparse->indic-nlp-library) (2.31.0)\n",
      "Requirement already satisfied: packaging in c:\\users\\bhavin\\appdata\\local\\anaconda3\\lib\\site-packages (from sphinx>=1.2.0->sphinx-argparse->indic-nlp-library) (23.0)\n",
      "Requirement already satisfied: colorama>=0.3.5 in c:\\users\\bhavin\\appdata\\local\\anaconda3\\lib\\site-packages (from sphinx>=1.2.0->sphinx-argparse->indic-nlp-library) (0.4.6)\n",
      "Requirement already satisfied: MarkupSafe>=2.0 in c:\\users\\bhavin\\appdata\\local\\anaconda3\\lib\\site-packages (from Jinja2>=2.3->sphinx>=1.2.0->sphinx-argparse->indic-nlp-library) (2.1.1)\n",
      "Requirement already satisfied: charset-normalizer<4,>=2 in c:\\users\\bhavin\\appdata\\local\\anaconda3\\lib\\site-packages (from requests>=2.5.0->sphinx>=1.2.0->sphinx-argparse->indic-nlp-library) (2.0.4)\n",
      "Requirement already satisfied: idna<4,>=2.5 in c:\\users\\bhavin\\appdata\\local\\anaconda3\\lib\\site-packages (from requests>=2.5.0->sphinx>=1.2.0->sphinx-argparse->indic-nlp-library) (3.4)\n",
      "Requirement already satisfied: urllib3<3,>=1.21.1 in c:\\users\\bhavin\\appdata\\local\\anaconda3\\lib\\site-packages (from requests>=2.5.0->sphinx>=1.2.0->sphinx-argparse->indic-nlp-library) (1.26.16)\n",
      "Requirement already satisfied: certifi>=2017.4.17 in c:\\users\\bhavin\\appdata\\local\\anaconda3\\lib\\site-packages (from requests>=2.5.0->sphinx>=1.2.0->sphinx-argparse->indic-nlp-library) (2023.7.22)\n",
      "Note: you may need to restart the kernel to use updated packages.\n"
     ]
    }
   ],
   "source": [
    "pip install indic-nlp-library"
   ]
  },
  {
   "cell_type": "code",
   "execution_count": 1,
   "id": "ad5cac2d",
   "metadata": {},
   "outputs": [],
   "source": [
    "import pandas as pd\n",
    "import re\n",
    "from indicnlp.tokenize import indic_tokenize"
   ]
  },
  {
   "cell_type": "code",
   "execution_count": 2,
   "id": "c191f100",
   "metadata": {},
   "outputs": [],
   "source": [
    "df = pd.read_csv('processed_data.csv', encoding='utf-8')"
   ]
  },
  {
   "cell_type": "code",
   "execution_count": 3,
   "id": "3199c0f0",
   "metadata": {},
   "outputs": [
    {
     "data": {
      "text/html": [
       "<div>\n",
       "<style scoped>\n",
       "    .dataframe tbody tr th:only-of-type {\n",
       "        vertical-align: middle;\n",
       "    }\n",
       "\n",
       "    .dataframe tbody tr th {\n",
       "        vertical-align: top;\n",
       "    }\n",
       "\n",
       "    .dataframe thead th {\n",
       "        text-align: right;\n",
       "    }\n",
       "</style>\n",
       "<table border=\"1\" class=\"dataframe\">\n",
       "  <thead>\n",
       "    <tr style=\"text-align: right;\">\n",
       "      <th></th>\n",
       "      <th>Hindi</th>\n",
       "      <th>Telugu</th>\n",
       "    </tr>\n",
       "  </thead>\n",
       "  <tbody>\n",
       "    <tr>\n",
       "      <th>0</th>\n",
       "      <td>कुछ वर्षों पहले मुझे ऐसा लगा जैसे मैं किसी उदा...</td>\n",
       "      <td>కొన్ని సంవత్సరాల ముందు, నేను బాగా ఆచరానములో ఉన...</td>\n",
       "    </tr>\n",
       "    <tr>\n",
       "      <th>1</th>\n",
       "      <td>यह विचार बहुत ही सरल है |</td>\n",
       "      <td>ఈ ఆలోచన చాలా సులభమైనది.</td>\n",
       "    </tr>\n",
       "    <tr>\n",
       "      <th>2</th>\n",
       "      <td>ऐसे किसी चीज के बारे में सोचिये जिसे आप हमेशा ...</td>\n",
       "      <td>మీ జీవితములో మీరు చేయాలి అనుకునే పనిని ఆలోచించ...</td>\n",
       "    </tr>\n",
       "    <tr>\n",
       "      <th>3</th>\n",
       "      <td>यह पता चला है कि 30 दिन पर्याप्त समय है, कोई न...</td>\n",
       "      <td>ఫలితము దక్కుతుంది. 30 రోజులనేది మీ జీవితములో ఒ...</td>\n",
       "    </tr>\n",
       "    <tr>\n",
       "      <th>4</th>\n",
       "      <td>इस 30 दिन की चुनौतियों के दौरान मैंने कुछ बाते...</td>\n",
       "      <td>ఈ 30 రోజులు పాటించే విధానములో నేను కొన్ని విషయ...</td>\n",
       "    </tr>\n",
       "  </tbody>\n",
       "</table>\n",
       "</div>"
      ],
      "text/plain": [
       "                                               Hindi  \\\n",
       "0  कुछ वर्षों पहले मुझे ऐसा लगा जैसे मैं किसी उदा...   \n",
       "1                          यह विचार बहुत ही सरल है |   \n",
       "2  ऐसे किसी चीज के बारे में सोचिये जिसे आप हमेशा ...   \n",
       "3  यह पता चला है कि 30 दिन पर्याप्त समय है, कोई न...   \n",
       "4  इस 30 दिन की चुनौतियों के दौरान मैंने कुछ बाते...   \n",
       "\n",
       "                                              Telugu  \n",
       "0  కొన్ని సంవత్సరాల ముందు, నేను బాగా ఆచరానములో ఉన...  \n",
       "1                            ఈ ఆలోచన చాలా సులభమైనది.  \n",
       "2  మీ జీవితములో మీరు చేయాలి అనుకునే పనిని ఆలోచించ...  \n",
       "3  ఫలితము దక్కుతుంది. 30 రోజులనేది మీ జీవితములో ఒ...  \n",
       "4  ఈ 30 రోజులు పాటించే విధానములో నేను కొన్ని విషయ...  "
      ]
     },
     "execution_count": 3,
     "metadata": {},
     "output_type": "execute_result"
    }
   ],
   "source": [
    "df.head()"
   ]
  },
  {
   "cell_type": "code",
   "execution_count": 5,
   "id": "a346ccf5",
   "metadata": {},
   "outputs": [],
   "source": [
    "# df2 = df.head()\n",
    "# df2.head()"
   ]
  },
  {
   "cell_type": "code",
   "execution_count": 6,
   "id": "44c7213f",
   "metadata": {},
   "outputs": [],
   "source": [
    "# df2.to_csv('text.csv', index=False, encoding='utf-8')"
   ]
  },
  {
   "cell_type": "code",
   "execution_count": 7,
   "id": "234d2d09",
   "metadata": {},
   "outputs": [],
   "source": [
    "# df2['Hindi'] = df2['Hindi'].astype(str)\n",
    "# df2['Telugu'] = df2['Telugu'].astype(str)"
   ]
  },
  {
   "cell_type": "code",
   "execution_count": 8,
   "id": "39748f73",
   "metadata": {},
   "outputs": [],
   "source": [
    "# df2['Hindi'] = df2['Hindi'].apply(lambda x: re.sub(r'\\s+', ' ', x).strip())\n",
    "# df2['Telugu'] = df2['Telugu'].apply(lambda x: re.sub(r'\\s+', ' ', x).strip())"
   ]
  },
  {
   "cell_type": "code",
   "execution_count": 9,
   "id": "0bafe705",
   "metadata": {},
   "outputs": [],
   "source": [
    "# df2.head()"
   ]
  },
  {
   "cell_type": "code",
   "execution_count": 10,
   "id": "3698401e",
   "metadata": {},
   "outputs": [],
   "source": [
    "# df2.to_csv('text.csv', index=False, encoding='utf-8')\n",
    "# df2.head()"
   ]
  },
  {
   "cell_type": "code",
   "execution_count": 11,
   "id": "51829e4d",
   "metadata": {},
   "outputs": [],
   "source": [
    "# pattern = r'|'\n",
    "\n",
    "# df2['Hindi'] = df2['Hindi'].str.replace(pattern, '')\n",
    "# df2['Telugu'] = df2['Telugu'].str.replace(pattern, '')"
   ]
  },
  {
   "cell_type": "code",
   "execution_count": 12,
   "id": "269bcdf8",
   "metadata": {},
   "outputs": [],
   "source": [
    "# df2.head()"
   ]
  },
  {
   "cell_type": "code",
   "execution_count": 13,
   "id": "1be07d8e",
   "metadata": {},
   "outputs": [
    {
     "name": "stdout",
     "output_type": "stream",
     "text": [
      "Requirement already satisfied: indic-nlp-library in c:\\users\\bhavin\\appdata\\local\\anaconda3\\lib\\site-packages (0.92)\n",
      "Requirement already satisfied: sphinx-argparse in c:\\users\\bhavin\\appdata\\local\\anaconda3\\lib\\site-packages (from indic-nlp-library) (0.4.0)\n",
      "Requirement already satisfied: sphinx-rtd-theme in c:\\users\\bhavin\\appdata\\local\\anaconda3\\lib\\site-packages (from indic-nlp-library) (1.3.0)\n",
      "Requirement already satisfied: morfessor in c:\\users\\bhavin\\appdata\\local\\anaconda3\\lib\\site-packages (from indic-nlp-library) (2.0.6)\n",
      "Requirement already satisfied: pandas in c:\\users\\bhavin\\appdata\\local\\anaconda3\\lib\\site-packages (from indic-nlp-library) (1.5.3)\n",
      "Requirement already satisfied: numpy in c:\\users\\bhavin\\appdata\\local\\anaconda3\\lib\\site-packages (from indic-nlp-library) (1.24.3)\n",
      "Requirement already satisfied: python-dateutil>=2.8.1 in c:\\users\\bhavin\\appdata\\local\\anaconda3\\lib\\site-packages (from pandas->indic-nlp-library) (2.8.2)\n",
      "Requirement already satisfied: pytz>=2020.1 in c:\\users\\bhavin\\appdata\\local\\anaconda3\\lib\\site-packages (from pandas->indic-nlp-library) (2022.7)\n",
      "Requirement already satisfied: sphinx>=1.2.0 in c:\\users\\bhavin\\appdata\\local\\anaconda3\\lib\\site-packages (from sphinx-argparse->indic-nlp-library) (5.0.2)\n",
      "Requirement already satisfied: docutils<0.19 in c:\\users\\bhavin\\appdata\\local\\anaconda3\\lib\\site-packages (from sphinx-rtd-theme->indic-nlp-library) (0.18.1)\n",
      "Requirement already satisfied: sphinxcontrib-jquery<5,>=4 in c:\\users\\bhavin\\appdata\\local\\anaconda3\\lib\\site-packages (from sphinx-rtd-theme->indic-nlp-library) (4.1)\n",
      "Requirement already satisfied: six>=1.5 in c:\\users\\bhavin\\appdata\\local\\anaconda3\\lib\\site-packages (from python-dateutil>=2.8.1->pandas->indic-nlp-library) (1.16.0)\n",
      "Requirement already satisfied: sphinxcontrib-applehelp in c:\\users\\bhavin\\appdata\\local\\anaconda3\\lib\\site-packages (from sphinx>=1.2.0->sphinx-argparse->indic-nlp-library) (1.0.2)\n",
      "Requirement already satisfied: sphinxcontrib-devhelp in c:\\users\\bhavin\\appdata\\local\\anaconda3\\lib\\site-packages (from sphinx>=1.2.0->sphinx-argparse->indic-nlp-library) (1.0.2)\n",
      "Requirement already satisfied: sphinxcontrib-jsmath in c:\\users\\bhavin\\appdata\\local\\anaconda3\\lib\\site-packages (from sphinx>=1.2.0->sphinx-argparse->indic-nlp-library) (1.0.1)\n",
      "Requirement already satisfied: sphinxcontrib-htmlhelp>=2.0.0 in c:\\users\\bhavin\\appdata\\local\\anaconda3\\lib\\site-packages (from sphinx>=1.2.0->sphinx-argparse->indic-nlp-library) (2.0.0)\n",
      "Requirement already satisfied: sphinxcontrib-serializinghtml>=1.1.5 in c:\\users\\bhavin\\appdata\\local\\anaconda3\\lib\\site-packages (from sphinx>=1.2.0->sphinx-argparse->indic-nlp-library) (1.1.5)\n",
      "Requirement already satisfied: sphinxcontrib-qthelp in c:\\users\\bhavin\\appdata\\local\\anaconda3\\lib\\site-packages (from sphinx>=1.2.0->sphinx-argparse->indic-nlp-library) (1.0.3)\n",
      "Requirement already satisfied: Jinja2>=2.3 in c:\\users\\bhavin\\appdata\\local\\anaconda3\\lib\\site-packages (from sphinx>=1.2.0->sphinx-argparse->indic-nlp-library) (3.1.2)\n",
      "Requirement already satisfied: Pygments>=2.0 in c:\\users\\bhavin\\appdata\\local\\anaconda3\\lib\\site-packages (from sphinx>=1.2.0->sphinx-argparse->indic-nlp-library) (2.15.1)\n",
      "Requirement already satisfied: snowballstemmer>=1.1 in c:\\users\\bhavin\\appdata\\local\\anaconda3\\lib\\site-packages (from sphinx>=1.2.0->sphinx-argparse->indic-nlp-library) (2.2.0)\n",
      "Requirement already satisfied: babel>=1.3 in c:\\users\\bhavin\\appdata\\local\\anaconda3\\lib\\site-packages (from sphinx>=1.2.0->sphinx-argparse->indic-nlp-library) (2.11.0)\n",
      "Requirement already satisfied: alabaster<0.8,>=0.7 in c:\\users\\bhavin\\appdata\\local\\anaconda3\\lib\\site-packages (from sphinx>=1.2.0->sphinx-argparse->indic-nlp-library) (0.7.12)\n",
      "Requirement already satisfied: imagesize in c:\\users\\bhavin\\appdata\\local\\anaconda3\\lib\\site-packages (from sphinx>=1.2.0->sphinx-argparse->indic-nlp-library) (1.4.1)\n",
      "Requirement already satisfied: requests>=2.5.0 in c:\\users\\bhavin\\appdata\\local\\anaconda3\\lib\\site-packages (from sphinx>=1.2.0->sphinx-argparse->indic-nlp-library) (2.31.0)\n",
      "Requirement already satisfied: packaging in c:\\users\\bhavin\\appdata\\local\\anaconda3\\lib\\site-packages (from sphinx>=1.2.0->sphinx-argparse->indic-nlp-library) (23.0)\n",
      "Requirement already satisfied: colorama>=0.3.5 in c:\\users\\bhavin\\appdata\\local\\anaconda3\\lib\\site-packages (from sphinx>=1.2.0->sphinx-argparse->indic-nlp-library) (0.4.6)\n",
      "Requirement already satisfied: MarkupSafe>=2.0 in c:\\users\\bhavin\\appdata\\local\\anaconda3\\lib\\site-packages (from Jinja2>=2.3->sphinx>=1.2.0->sphinx-argparse->indic-nlp-library) (2.1.1)\n",
      "Requirement already satisfied: charset-normalizer<4,>=2 in c:\\users\\bhavin\\appdata\\local\\anaconda3\\lib\\site-packages (from requests>=2.5.0->sphinx>=1.2.0->sphinx-argparse->indic-nlp-library) (2.0.4)\n",
      "Requirement already satisfied: idna<4,>=2.5 in c:\\users\\bhavin\\appdata\\local\\anaconda3\\lib\\site-packages (from requests>=2.5.0->sphinx>=1.2.0->sphinx-argparse->indic-nlp-library) (3.4)\n",
      "Requirement already satisfied: urllib3<3,>=1.21.1 in c:\\users\\bhavin\\appdata\\local\\anaconda3\\lib\\site-packages (from requests>=2.5.0->sphinx>=1.2.0->sphinx-argparse->indic-nlp-library) (1.26.16)\n",
      "Requirement already satisfied: certifi>=2017.4.17 in c:\\users\\bhavin\\appdata\\local\\anaconda3\\lib\\site-packages (from requests>=2.5.0->sphinx>=1.2.0->sphinx-argparse->indic-nlp-library) (2023.7.22)\n",
      "Note: you may need to restart the kernel to use updated packages.\n"
     ]
    }
   ],
   "source": [
    "pip install indic-nlp-library"
   ]
  },
  {
   "cell_type": "code",
   "execution_count": 4,
   "id": "024e8fa4",
   "metadata": {},
   "outputs": [],
   "source": [
    "from indicnlp.tokenize import indic_tokenize"
   ]
  },
  {
   "cell_type": "code",
   "execution_count": 15,
   "id": "fb983549",
   "metadata": {},
   "outputs": [],
   "source": [
    "# df2['Hindi_Tokens'] = df2['Hindi'].apply(lambda x:indic_tokenize.trivial_tokenize(x))\n",
    "# df2['Telugu_Tokens'] = df2['Telugu'].apply(lambda x:indic_tokenize.trivial_tokenize(x))"
   ]
  },
  {
   "cell_type": "code",
   "execution_count": 16,
   "id": "4cb56277",
   "metadata": {},
   "outputs": [],
   "source": [
    "# df2.head()"
   ]
  },
  {
   "cell_type": "code",
   "execution_count": 17,
   "id": "5b4a5f69",
   "metadata": {},
   "outputs": [],
   "source": [
    "# df2.count()"
   ]
  },
  {
   "cell_type": "code",
   "execution_count": 18,
   "id": "38bdba80",
   "metadata": {},
   "outputs": [],
   "source": [
    "# df.count()"
   ]
  },
  {
   "cell_type": "code",
   "execution_count": 5,
   "id": "5f4d4e71",
   "metadata": {},
   "outputs": [],
   "source": [
    "df['Hindi'] = df['Hindi'].astype(str)\n",
    "df['Telugu'] = df['Telugu'].astype(str)\n",
    "df['Hindi'] = df['Hindi'].apply(lambda x: re.sub(r'\\s+', ' ', x).strip())\n",
    "df['Telugu'] = df['Telugu'].apply(lambda x: re.sub(r'\\s+', ' ', x).strip())"
   ]
  },
  {
   "cell_type": "code",
   "execution_count": 6,
   "id": "1d783020",
   "metadata": {},
   "outputs": [
    {
     "data": {
      "text/html": [
       "<div>\n",
       "<style scoped>\n",
       "    .dataframe tbody tr th:only-of-type {\n",
       "        vertical-align: middle;\n",
       "    }\n",
       "\n",
       "    .dataframe tbody tr th {\n",
       "        vertical-align: top;\n",
       "    }\n",
       "\n",
       "    .dataframe thead th {\n",
       "        text-align: right;\n",
       "    }\n",
       "</style>\n",
       "<table border=\"1\" class=\"dataframe\">\n",
       "  <thead>\n",
       "    <tr style=\"text-align: right;\">\n",
       "      <th></th>\n",
       "      <th>Hindi</th>\n",
       "      <th>Telugu</th>\n",
       "    </tr>\n",
       "  </thead>\n",
       "  <tbody>\n",
       "    <tr>\n",
       "      <th>0</th>\n",
       "      <td>कुछ वर्षों पहले मुझे ऐसा लगा जैसे मैं किसी उदा...</td>\n",
       "      <td>కొన్ని సంవత్సరాల ముందు, నేను బాగా ఆచరానములో ఉన...</td>\n",
       "    </tr>\n",
       "    <tr>\n",
       "      <th>1</th>\n",
       "      <td>यह विचार बहुत ही सरल है |</td>\n",
       "      <td>ఈ ఆలోచన చాలా సులభమైనది.</td>\n",
       "    </tr>\n",
       "    <tr>\n",
       "      <th>2</th>\n",
       "      <td>ऐसे किसी चीज के बारे में सोचिये जिसे आप हमेशा ...</td>\n",
       "      <td>మీ జీవితములో మీరు చేయాలి అనుకునే పనిని ఆలోచించ...</td>\n",
       "    </tr>\n",
       "    <tr>\n",
       "      <th>3</th>\n",
       "      <td>यह पता चला है कि 30 दिन पर्याप्त समय है, कोई न...</td>\n",
       "      <td>ఫలితము దక్కుతుంది. 30 రోజులనేది మీ జీవితములో ఒ...</td>\n",
       "    </tr>\n",
       "    <tr>\n",
       "      <th>4</th>\n",
       "      <td>इस 30 दिन की चुनौतियों के दौरान मैंने कुछ बाते...</td>\n",
       "      <td>ఈ 30 రోజులు పాటించే విధానములో నేను కొన్ని విషయ...</td>\n",
       "    </tr>\n",
       "  </tbody>\n",
       "</table>\n",
       "</div>"
      ],
      "text/plain": [
       "                                               Hindi  \\\n",
       "0  कुछ वर्षों पहले मुझे ऐसा लगा जैसे मैं किसी उदा...   \n",
       "1                          यह विचार बहुत ही सरल है |   \n",
       "2  ऐसे किसी चीज के बारे में सोचिये जिसे आप हमेशा ...   \n",
       "3  यह पता चला है कि 30 दिन पर्याप्त समय है, कोई न...   \n",
       "4  इस 30 दिन की चुनौतियों के दौरान मैंने कुछ बाते...   \n",
       "\n",
       "                                              Telugu  \n",
       "0  కొన్ని సంవత్సరాల ముందు, నేను బాగా ఆచరానములో ఉన...  \n",
       "1                            ఈ ఆలోచన చాలా సులభమైనది.  \n",
       "2  మీ జీవితములో మీరు చేయాలి అనుకునే పనిని ఆలోచించ...  \n",
       "3  ఫలితము దక్కుతుంది. 30 రోజులనేది మీ జీవితములో ఒ...  \n",
       "4  ఈ 30 రోజులు పాటించే విధానములో నేను కొన్ని విషయ...  "
      ]
     },
     "execution_count": 6,
     "metadata": {},
     "output_type": "execute_result"
    }
   ],
   "source": [
    "df.head()"
   ]
  },
  {
   "cell_type": "code",
   "execution_count": 7,
   "id": "2b1f25a9",
   "metadata": {},
   "outputs": [
    {
     "name": "stderr",
     "output_type": "stream",
     "text": [
      "C:\\Users\\Bhavin\\AppData\\Local\\Temp\\ipykernel_236\\2694756595.py:3: FutureWarning: The default value of regex will change from True to False in a future version. In addition, single character regular expressions will *not* be treated as literal strings when regex=True.\n",
      "  df['Hindi'] = df['Hindi'].str.replace(pattern, '')\n",
      "C:\\Users\\Bhavin\\AppData\\Local\\Temp\\ipykernel_236\\2694756595.py:4: FutureWarning: The default value of regex will change from True to False in a future version. In addition, single character regular expressions will *not* be treated as literal strings when regex=True.\n",
      "  df['Telugu'] = df['Telugu'].str.replace(pattern, '')\n"
     ]
    }
   ],
   "source": [
    "pattern = r'|'\n",
    "\n",
    "df['Hindi'] = df['Hindi'].str.replace(pattern, '')\n",
    "df['Telugu'] = df['Telugu'].str.replace(pattern, '')"
   ]
  },
  {
   "cell_type": "code",
   "execution_count": 8,
   "id": "5b692549",
   "metadata": {},
   "outputs": [
    {
     "data": {
      "text/html": [
       "<div>\n",
       "<style scoped>\n",
       "    .dataframe tbody tr th:only-of-type {\n",
       "        vertical-align: middle;\n",
       "    }\n",
       "\n",
       "    .dataframe tbody tr th {\n",
       "        vertical-align: top;\n",
       "    }\n",
       "\n",
       "    .dataframe thead th {\n",
       "        text-align: right;\n",
       "    }\n",
       "</style>\n",
       "<table border=\"1\" class=\"dataframe\">\n",
       "  <thead>\n",
       "    <tr style=\"text-align: right;\">\n",
       "      <th></th>\n",
       "      <th>Hindi</th>\n",
       "      <th>Telugu</th>\n",
       "    </tr>\n",
       "  </thead>\n",
       "  <tbody>\n",
       "    <tr>\n",
       "      <th>0</th>\n",
       "      <td>कुछ वर्षों पहले मुझे ऐसा लगा जैसे मैं किसी उदा...</td>\n",
       "      <td>కొన్ని సంవత్సరాల ముందు, నేను బాగా ఆచరానములో ఉన...</td>\n",
       "    </tr>\n",
       "    <tr>\n",
       "      <th>1</th>\n",
       "      <td>यह विचार बहुत ही सरल है</td>\n",
       "      <td>ఈ ఆలోచన చాలా సులభమైనది.</td>\n",
       "    </tr>\n",
       "    <tr>\n",
       "      <th>2</th>\n",
       "      <td>ऐसे किसी चीज के बारे में सोचिये जिसे आप हमेशा ...</td>\n",
       "      <td>మీ జీవితములో మీరు చేయాలి అనుకునే పనిని ఆలోచించ...</td>\n",
       "    </tr>\n",
       "    <tr>\n",
       "      <th>3</th>\n",
       "      <td>यह पता चला है कि 30 दिन पर्याप्त समय है, कोई न...</td>\n",
       "      <td>ఫలితము దక్కుతుంది. 30 రోజులనేది మీ జీవితములో ఒ...</td>\n",
       "    </tr>\n",
       "    <tr>\n",
       "      <th>4</th>\n",
       "      <td>इस 30 दिन की चुनौतियों के दौरान मैंने कुछ बाते...</td>\n",
       "      <td>ఈ 30 రోజులు పాటించే విధానములో నేను కొన్ని విషయ...</td>\n",
       "    </tr>\n",
       "  </tbody>\n",
       "</table>\n",
       "</div>"
      ],
      "text/plain": [
       "                                               Hindi  \\\n",
       "0  कुछ वर्षों पहले मुझे ऐसा लगा जैसे मैं किसी उदा...   \n",
       "1                           यह विचार बहुत ही सरल है    \n",
       "2  ऐसे किसी चीज के बारे में सोचिये जिसे आप हमेशा ...   \n",
       "3  यह पता चला है कि 30 दिन पर्याप्त समय है, कोई न...   \n",
       "4  इस 30 दिन की चुनौतियों के दौरान मैंने कुछ बाते...   \n",
       "\n",
       "                                              Telugu  \n",
       "0  కొన్ని సంవత్సరాల ముందు, నేను బాగా ఆచరానములో ఉన...  \n",
       "1                            ఈ ఆలోచన చాలా సులభమైనది.  \n",
       "2  మీ జీవితములో మీరు చేయాలి అనుకునే పనిని ఆలోచించ...  \n",
       "3  ఫలితము దక్కుతుంది. 30 రోజులనేది మీ జీవితములో ఒ...  \n",
       "4  ఈ 30 రోజులు పాటించే విధానములో నేను కొన్ని విషయ...  "
      ]
     },
     "execution_count": 8,
     "metadata": {},
     "output_type": "execute_result"
    }
   ],
   "source": [
    "df.head()"
   ]
  },
  {
   "cell_type": "code",
   "execution_count": 9,
   "id": "9a8efe19",
   "metadata": {},
   "outputs": [],
   "source": [
    "df['Hindi_Tokens'] = df['Hindi'].apply(lambda x:indic_tokenize.trivial_tokenize(x))\n",
    "df['Telugu_Tokens'] = df['Telugu'].apply(lambda x:indic_tokenize.trivial_tokenize(x))"
   ]
  },
  {
   "cell_type": "code",
   "execution_count": 10,
   "id": "84632ae9",
   "metadata": {},
   "outputs": [
    {
     "data": {
      "text/html": [
       "<div>\n",
       "<style scoped>\n",
       "    .dataframe tbody tr th:only-of-type {\n",
       "        vertical-align: middle;\n",
       "    }\n",
       "\n",
       "    .dataframe tbody tr th {\n",
       "        vertical-align: top;\n",
       "    }\n",
       "\n",
       "    .dataframe thead th {\n",
       "        text-align: right;\n",
       "    }\n",
       "</style>\n",
       "<table border=\"1\" class=\"dataframe\">\n",
       "  <thead>\n",
       "    <tr style=\"text-align: right;\">\n",
       "      <th></th>\n",
       "      <th>Hindi</th>\n",
       "      <th>Telugu</th>\n",
       "      <th>Hindi_Tokens</th>\n",
       "      <th>Telugu_Tokens</th>\n",
       "    </tr>\n",
       "  </thead>\n",
       "  <tbody>\n",
       "    <tr>\n",
       "      <th>0</th>\n",
       "      <td>कुछ वर्षों पहले मुझे ऐसा लगा जैसे मैं किसी उदा...</td>\n",
       "      <td>కొన్ని సంవత్సరాల ముందు, నేను బాగా ఆచరానములో ఉన...</td>\n",
       "      <td>[कुछ, वर्षों, पहले, मुझे, ऐसा, लगा, जैसे, मैं,...</td>\n",
       "      <td>[కొన్ని, సంవత్సరాల, ముందు, ,, నేను, బాగా, ఆచరా...</td>\n",
       "    </tr>\n",
       "    <tr>\n",
       "      <th>1</th>\n",
       "      <td>यह विचार बहुत ही सरल है</td>\n",
       "      <td>ఈ ఆలోచన చాలా సులభమైనది.</td>\n",
       "      <td>[यह, विचार, बहुत, ही, सरल, है]</td>\n",
       "      <td>[ఈ, ఆలోచన, చాలా, సులభమైనది, .]</td>\n",
       "    </tr>\n",
       "    <tr>\n",
       "      <th>2</th>\n",
       "      <td>ऐसे किसी चीज के बारे में सोचिये जिसे आप हमेशा ...</td>\n",
       "      <td>మీ జీవితములో మీరు చేయాలి అనుకునే పనిని ఆలోచించ...</td>\n",
       "      <td>[ऐसे, किसी, चीज, के, बारे, में, सोचिये, जिसे, ...</td>\n",
       "      <td>[మీ, జీవితములో, మీరు, చేయాలి, అనుకునే, పనిని, ...</td>\n",
       "    </tr>\n",
       "    <tr>\n",
       "      <th>3</th>\n",
       "      <td>यह पता चला है कि 30 दिन पर्याप्त समय है, कोई न...</td>\n",
       "      <td>ఫలితము దక్కుతుంది. 30 రోజులనేది మీ జీవితములో ఒ...</td>\n",
       "      <td>[यह, पता, चला, है, कि, 30, दिन, पर्याप्त, समय,...</td>\n",
       "      <td>[ఫలితము, దక్కుతుంది, ., 30, రోజులనేది, మీ, జీవ...</td>\n",
       "    </tr>\n",
       "    <tr>\n",
       "      <th>4</th>\n",
       "      <td>इस 30 दिन की चुनौतियों के दौरान मैंने कुछ बाते...</td>\n",
       "      <td>ఈ 30 రోజులు పాటించే విధానములో నేను కొన్ని విషయ...</td>\n",
       "      <td>[इस, 30, दिन, की, चुनौतियों, के, दौरान, मैंने,...</td>\n",
       "      <td>[ఈ, 30, రోజులు, పాటించే, విధానములో, నేను, కొన్...</td>\n",
       "    </tr>\n",
       "  </tbody>\n",
       "</table>\n",
       "</div>"
      ],
      "text/plain": [
       "                                               Hindi  \\\n",
       "0  कुछ वर्षों पहले मुझे ऐसा लगा जैसे मैं किसी उदा...   \n",
       "1                           यह विचार बहुत ही सरल है    \n",
       "2  ऐसे किसी चीज के बारे में सोचिये जिसे आप हमेशा ...   \n",
       "3  यह पता चला है कि 30 दिन पर्याप्त समय है, कोई न...   \n",
       "4  इस 30 दिन की चुनौतियों के दौरान मैंने कुछ बाते...   \n",
       "\n",
       "                                              Telugu  \\\n",
       "0  కొన్ని సంవత్సరాల ముందు, నేను బాగా ఆచరానములో ఉన...   \n",
       "1                            ఈ ఆలోచన చాలా సులభమైనది.   \n",
       "2  మీ జీవితములో మీరు చేయాలి అనుకునే పనిని ఆలోచించ...   \n",
       "3  ఫలితము దక్కుతుంది. 30 రోజులనేది మీ జీవితములో ఒ...   \n",
       "4  ఈ 30 రోజులు పాటించే విధానములో నేను కొన్ని విషయ...   \n",
       "\n",
       "                                        Hindi_Tokens  \\\n",
       "0  [कुछ, वर्षों, पहले, मुझे, ऐसा, लगा, जैसे, मैं,...   \n",
       "1                     [यह, विचार, बहुत, ही, सरल, है]   \n",
       "2  [ऐसे, किसी, चीज, के, बारे, में, सोचिये, जिसे, ...   \n",
       "3  [यह, पता, चला, है, कि, 30, दिन, पर्याप्त, समय,...   \n",
       "4  [इस, 30, दिन, की, चुनौतियों, के, दौरान, मैंने,...   \n",
       "\n",
       "                                       Telugu_Tokens  \n",
       "0  [కొన్ని, సంవత్సరాల, ముందు, ,, నేను, బాగా, ఆచరా...  \n",
       "1                     [ఈ, ఆలోచన, చాలా, సులభమైనది, .]  \n",
       "2  [మీ, జీవితములో, మీరు, చేయాలి, అనుకునే, పనిని, ...  \n",
       "3  [ఫలితము, దక్కుతుంది, ., 30, రోజులనేది, మీ, జీవ...  \n",
       "4  [ఈ, 30, రోజులు, పాటించే, విధానములో, నేను, కొన్...  "
      ]
     },
     "execution_count": 10,
     "metadata": {},
     "output_type": "execute_result"
    }
   ],
   "source": [
    "df.head()"
   ]
  },
  {
   "cell_type": "code",
   "execution_count": 11,
   "id": "ed6742aa",
   "metadata": {},
   "outputs": [],
   "source": [
    "tokenized_df = df[['Hindi_Tokens', 'Telugu_Tokens']]\n",
    "preprocessed_df = df[['Hindi', 'Telugu']]"
   ]
  },
  {
   "cell_type": "code",
   "execution_count": 12,
   "id": "7aa4cfef",
   "metadata": {},
   "outputs": [
    {
     "data": {
      "text/html": [
       "<div>\n",
       "<style scoped>\n",
       "    .dataframe tbody tr th:only-of-type {\n",
       "        vertical-align: middle;\n",
       "    }\n",
       "\n",
       "    .dataframe tbody tr th {\n",
       "        vertical-align: top;\n",
       "    }\n",
       "\n",
       "    .dataframe thead th {\n",
       "        text-align: right;\n",
       "    }\n",
       "</style>\n",
       "<table border=\"1\" class=\"dataframe\">\n",
       "  <thead>\n",
       "    <tr style=\"text-align: right;\">\n",
       "      <th></th>\n",
       "      <th>Hindi_Tokens</th>\n",
       "      <th>Telugu_Tokens</th>\n",
       "    </tr>\n",
       "  </thead>\n",
       "  <tbody>\n",
       "    <tr>\n",
       "      <th>0</th>\n",
       "      <td>[कुछ, वर्षों, पहले, मुझे, ऐसा, लगा, जैसे, मैं,...</td>\n",
       "      <td>[కొన్ని, సంవత్సరాల, ముందు, ,, నేను, బాగా, ఆచరా...</td>\n",
       "    </tr>\n",
       "    <tr>\n",
       "      <th>1</th>\n",
       "      <td>[यह, विचार, बहुत, ही, सरल, है]</td>\n",
       "      <td>[ఈ, ఆలోచన, చాలా, సులభమైనది, .]</td>\n",
       "    </tr>\n",
       "    <tr>\n",
       "      <th>2</th>\n",
       "      <td>[ऐसे, किसी, चीज, के, बारे, में, सोचिये, जिसे, ...</td>\n",
       "      <td>[మీ, జీవితములో, మీరు, చేయాలి, అనుకునే, పనిని, ...</td>\n",
       "    </tr>\n",
       "    <tr>\n",
       "      <th>3</th>\n",
       "      <td>[यह, पता, चला, है, कि, 30, दिन, पर्याप्त, समय,...</td>\n",
       "      <td>[ఫలితము, దక్కుతుంది, ., 30, రోజులనేది, మీ, జీవ...</td>\n",
       "    </tr>\n",
       "    <tr>\n",
       "      <th>4</th>\n",
       "      <td>[इस, 30, दिन, की, चुनौतियों, के, दौरान, मैंने,...</td>\n",
       "      <td>[ఈ, 30, రోజులు, పాటించే, విధానములో, నేను, కొన్...</td>\n",
       "    </tr>\n",
       "  </tbody>\n",
       "</table>\n",
       "</div>"
      ],
      "text/plain": [
       "                                        Hindi_Tokens  \\\n",
       "0  [कुछ, वर्षों, पहले, मुझे, ऐसा, लगा, जैसे, मैं,...   \n",
       "1                     [यह, विचार, बहुत, ही, सरल, है]   \n",
       "2  [ऐसे, किसी, चीज, के, बारे, में, सोचिये, जिसे, ...   \n",
       "3  [यह, पता, चला, है, कि, 30, दिन, पर्याप्त, समय,...   \n",
       "4  [इस, 30, दिन, की, चुनौतियों, के, दौरान, मैंने,...   \n",
       "\n",
       "                                       Telugu_Tokens  \n",
       "0  [కొన్ని, సంవత్సరాల, ముందు, ,, నేను, బాగా, ఆచరా...  \n",
       "1                     [ఈ, ఆలోచన, చాలా, సులభమైనది, .]  \n",
       "2  [మీ, జీవితములో, మీరు, చేయాలి, అనుకునే, పనిని, ...  \n",
       "3  [ఫలితము, దక్కుతుంది, ., 30, రోజులనేది, మీ, జీవ...  \n",
       "4  [ఈ, 30, రోజులు, పాటించే, విధానములో, నేను, కొన్...  "
      ]
     },
     "execution_count": 12,
     "metadata": {},
     "output_type": "execute_result"
    }
   ],
   "source": [
    "tokenized_df.head()"
   ]
  },
  {
   "cell_type": "code",
   "execution_count": 13,
   "id": "6f915346",
   "metadata": {},
   "outputs": [],
   "source": [
    "tokenized_df.to_csv('tokenized_data.csv', index=False, encoding='utf-8')\n",
    "preprocessed_df.to_csv('preprocessed_data.csv', index=False, encoding='utf-8')"
   ]
  },
  {
   "cell_type": "code",
   "execution_count": null,
   "id": "a4533a72",
   "metadata": {},
   "outputs": [],
   "source": []
  }
 ],
 "metadata": {
  "kernelspec": {
   "display_name": "Python 3 (ipykernel)",
   "language": "python",
   "name": "python3"
  },
  "language_info": {
   "codemirror_mode": {
    "name": "ipython",
    "version": 3
   },
   "file_extension": ".py",
   "mimetype": "text/x-python",
   "name": "python",
   "nbconvert_exporter": "python",
   "pygments_lexer": "ipython3",
   "version": "3.11.4"
  }
 },
 "nbformat": 4,
 "nbformat_minor": 5
}
