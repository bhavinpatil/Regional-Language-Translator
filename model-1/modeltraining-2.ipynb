{
 "cells": [
  {
   "cell_type": "code",
   "execution_count": 1,
   "id": "b35f23a2",
   "metadata": {},
   "outputs": [],
   "source": [
    "import numpy as np\n",
    "import pandas as pd\n",
    "from sklearn.model_selection import train_test_split\n",
    "from tensorflow.keras.preprocessing.text import Tokenizer\n",
    "from tensorflow.keras.preprocessing.sequence import pad_sequences"
   ]
  },
  {
   "cell_type": "code",
   "execution_count": 2,
   "id": "b11a3e30",
   "metadata": {},
   "outputs": [
    {
     "data": {
      "text/plain": [
       "(                                               Hindi  \\\n",
       " 0  कुछ वर्षों पहले मुझे ऐसा लगा जैसे मैं किसी उदा...   \n",
       " 1                           यह विचार बहुत ही सरल है    \n",
       " 2  ऐसे किसी चीज के बारे में सोचिये जिसे आप हमेशा ...   \n",
       " 3  यह पता चला है कि 30 दिन पर्याप्त समय है, कोई न...   \n",
       " 4  इस 30 दिन की चुनौतियों के दौरान मैंने कुछ बाते...   \n",
       " \n",
       "                                               Telugu  \n",
       " 0  కొన్ని సంవత్సరాల ముందు, నేను బాగా ఆచరానములో ఉన...  \n",
       " 1                            ఈ ఆలోచన చాలా సులభమైనది.  \n",
       " 2  మీ జీవితములో మీరు చేయాలి అనుకునే పనిని ఆలోచించ...  \n",
       " 3  ఫలితము దక్కుతుంది. 30 రోజులనేది మీ జీవితములో ఒ...  \n",
       " 4  ఈ 30 రోజులు పాటించే విధానములో నేను కొన్ని విషయ...  ,\n",
       " Hindi     2648\n",
       " Telugu    2648\n",
       " dtype: int64)"
      ]
     },
     "execution_count": 2,
     "metadata": {},
     "output_type": "execute_result"
    }
   ],
   "source": [
    "# Load your tokenized dataset\n",
    "data = pd.read_csv('preprocessed_data.csv')\n",
    "data.head(), data.count()"
   ]
  },
  {
   "cell_type": "code",
   "execution_count": 3,
   "id": "1263dd36",
   "metadata": {},
   "outputs": [
    {
     "data": {
      "text/plain": [
       "(Hindi     2383\n",
       " Telugu    2383\n",
       " dtype: int64,\n",
       " Hindi     265\n",
       " Telugu    265\n",
       " dtype: int64)"
      ]
     },
     "execution_count": 3,
     "metadata": {},
     "output_type": "execute_result"
    }
   ],
   "source": [
    "# Split the data into training and testing sets\n",
    "train_data, test_data = train_test_split(data, test_size=0.1, random_state=42)\n",
    "\n",
    "train_data.count(), test_data.count()"
   ]
  },
  {
   "cell_type": "code",
   "execution_count": 4,
   "id": "5ba03641",
   "metadata": {},
   "outputs": [],
   "source": [
    "import numpy as np\n",
    "\n",
    "# Check for NaN or missing values in the 'Hindi' and 'Telugu' columns\n",
    "train_data = train_data.dropna(subset=['Hindi', 'Telugu'])\n",
    "\n",
    "# Convert text data to string\n",
    "train_data['Hindi'] = train_data['Hindi'].astype(str)\n",
    "train_data['Telugu'] = train_data['Telugu'].astype(str)\n",
    "\n",
    "# Tokenize the text data\n",
    "tokenizer_hindi = Tokenizer(filters='', oov_token='<OOV>')\n",
    "tokenizer_hindi.fit_on_texts(train_data['Hindi'])\n",
    "\n",
    "tokenizer_telugu = Tokenizer(filters='', oov_token='<OOV>')\n",
    "tokenizer_telugu.fit_on_texts(train_data['Telugu'])"
   ]
  },
  {
   "cell_type": "code",
   "execution_count": 5,
   "id": "043d6946",
   "metadata": {},
   "outputs": [
    {
     "name": "stdout",
     "output_type": "stream",
     "text": [
      "7828\n",
      "13588\n"
     ]
    }
   ],
   "source": [
    "# Vocabulary size for both languages\n",
    "vocab_size_hindi = len(tokenizer_hindi.word_index) + 1\n",
    "vocab_size_telugu = len(tokenizer_telugu.word_index) + 1\n",
    "print(vocab_size_hindi)\n",
    "print(vocab_size_telugu)"
   ]
  },
  {
   "cell_type": "code",
   "execution_count": 6,
   "id": "e6e2d7b4",
   "metadata": {},
   "outputs": [],
   "source": [
    "# Convert text to sequences\n",
    "train_input = tokenizer_hindi.texts_to_sequences(train_data['Hindi'])\n",
    "train_output = tokenizer_telugu.texts_to_sequences(train_data['Telugu'])\n",
    "test_input = tokenizer_hindi.texts_to_sequences(test_data['Hindi'])\n",
    "test_output = tokenizer_telugu.texts_to_sequences(test_data['Telugu'])"
   ]
  },
  {
   "cell_type": "code",
   "execution_count": 18,
   "id": "c021e29a",
   "metadata": {},
   "outputs": [],
   "source": [
    "max_seq_length = 50  # Adjust as needed\n",
    "train_input = pad_sequences(train_input, maxlen=max_seq_length, padding='post')\n",
    "train_output = pad_sequences(train_output, maxlen=max_seq_length, padding='post')\n",
    "test_input = pad_sequences(test_input, maxlen=max_seq_length, padding='post')\n",
    "test_output = pad_sequences(test_output, maxlen=max_seq_length, padding='post')"
   ]
  },
  {
   "cell_type": "code",
   "execution_count": 19,
   "id": "9ccc20a3",
   "metadata": {},
   "outputs": [
    {
     "data": {
      "text/plain": [
       "(2383, 2383, 265, 265)"
      ]
     },
     "execution_count": 19,
     "metadata": {},
     "output_type": "execute_result"
    }
   ],
   "source": [
    "len(train_input), len(train_output), len(test_input), len(test_output)"
   ]
  },
  {
   "cell_type": "code",
   "execution_count": 20,
   "id": "24947dc7",
   "metadata": {},
   "outputs": [],
   "source": [
    "from tensorflow.keras.models import Model\n",
    "from tensorflow.keras.layers import Input, Embedding, LSTM, Dense, Attention"
   ]
  },
  {
   "cell_type": "code",
   "execution_count": 21,
   "id": "30abeaac",
   "metadata": {},
   "outputs": [],
   "source": [
    "# Define input and output sequences\n",
    "encoder_input = Input(shape=(max_seq_length,))\n",
    "decoder_input = Input(shape=(max_seq_length,))"
   ]
  },
  {
   "cell_type": "code",
   "execution_count": 22,
   "id": "bea54baa",
   "metadata": {},
   "outputs": [],
   "source": [
    "# Embedding layer for encoder and decoder\n",
    "embedding_dim = 256  # Adjust as needed\n",
    "encoder_embedding = Embedding(input_dim=vocab_size_hindi, output_dim=embedding_dim)(encoder_input)\n",
    "decoder_embedding = Embedding(input_dim=vocab_size_telugu, output_dim=embedding_dim)(decoder_input)"
   ]
  },
  {
   "cell_type": "code",
   "execution_count": 23,
   "id": "b6b735f7",
   "metadata": {},
   "outputs": [],
   "source": [
    "\n",
    "# Encoder LSTM\n",
    "encoder_lstm = LSTM(256, return_sequences=True, return_state=True)\n",
    "encoder_outputs, state_h, state_c = encoder_lstm(encoder_embedding)\n",
    "encoder_states = [state_h, state_c]\n",
    "\n",
    "# Attention layer\n",
    "attention_layer = Attention()\n",
    "attention_output = attention_layer([encoder_outputs, decoder_embedding])\n",
    "\n",
    "# Decoder LSTM\n",
    "decoder_lstm = LSTM(256, return_sequences=True, return_state=True)\n",
    "decoder_outputs, _, _ = decoder_lstm(attention_output, initial_state=encoder_states)\n",
    "\n",
    "# Output layer\n",
    "output_layer = Dense(vocab_size_telugu, activation='softmax')\n",
    "decoder_outputs = output_layer(decoder_outputs)"
   ]
  },
  {
   "cell_type": "code",
   "execution_count": 24,
   "id": "950d5cdc",
   "metadata": {},
   "outputs": [],
   "source": [
    "# Define the model\n",
    "model = Model([encoder_input, decoder_input], decoder_outputs)\n",
    "\n",
    "# Compile the model\n",
    "model.compile(optimizer='adam', loss='sparse_categorical_crossentropy', metrics=['accuracy'])"
   ]
  },
  {
   "cell_type": "code",
   "execution_count": 27,
   "id": "c22b9ebf",
   "metadata": {},
   "outputs": [
    {
     "name": "stdout",
     "output_type": "stream",
     "text": [
      "Model: \"model_1\"\n",
      "__________________________________________________________________________________________________\n",
      " Layer (type)                Output Shape                 Param #   Connected to                  \n",
      "==================================================================================================\n",
      " input_3 (InputLayer)        [(None, 50)]                 0         []                            \n",
      "                                                                                                  \n",
      " embedding_2 (Embedding)     (None, 50, 256)              2003968   ['input_3[0][0]']             \n",
      "                                                                                                  \n",
      " input_4 (InputLayer)        [(None, 50)]                 0         []                            \n",
      "                                                                                                  \n",
      " lstm_2 (LSTM)               [(None, 50, 256),            525312    ['embedding_2[0][0]']         \n",
      "                              (None, 256),                                                        \n",
      "                              (None, 256)]                                                        \n",
      "                                                                                                  \n",
      " embedding_3 (Embedding)     (None, 50, 256)              3478528   ['input_4[0][0]']             \n",
      "                                                                                                  \n",
      " attention_1 (Attention)     (None, 50, 256)              0         ['lstm_2[0][0]',              \n",
      "                                                                     'embedding_3[0][0]']         \n",
      "                                                                                                  \n",
      " lstm_3 (LSTM)               [(None, 50, 256),            525312    ['attention_1[0][0]',         \n",
      "                              (None, 256),                           'lstm_2[0][1]',              \n",
      "                              (None, 256)]                           'lstm_2[0][2]']              \n",
      "                                                                                                  \n",
      " dense_1 (Dense)             (None, 50, 13588)            3492116   ['lstm_3[0][0]']              \n",
      "                                                                                                  \n",
      "==================================================================================================\n",
      "Total params: 10025236 (38.24 MB)\n",
      "Trainable params: 10025236 (38.24 MB)\n",
      "Non-trainable params: 0 (0.00 Byte)\n",
      "__________________________________________________________________________________________________\n"
     ]
    }
   ],
   "source": [
    "model.summary()"
   ]
  },
  {
   "cell_type": "code",
   "execution_count": 26,
   "id": "5006584a",
   "metadata": {},
   "outputs": [
    {
     "name": "stdout",
     "output_type": "stream",
     "text": [
      "Epoch 1/50\n"
     ]
    },
    {
     "ename": "ValueError",
     "evalue": "in user code:\n\n    File \"C:\\Users\\Bhavin\\AppData\\Local\\anaconda3\\Lib\\site-packages\\keras\\src\\engine\\training.py\", line 1338, in train_function  *\n        return step_function(self, iterator)\n    File \"C:\\Users\\Bhavin\\AppData\\Local\\anaconda3\\Lib\\site-packages\\keras\\src\\engine\\training.py\", line 1322, in step_function  **\n        outputs = model.distribute_strategy.run(run_step, args=(data,))\n    File \"C:\\Users\\Bhavin\\AppData\\Local\\anaconda3\\Lib\\site-packages\\keras\\src\\engine\\training.py\", line 1303, in run_step  **\n        outputs = model.train_step(data)\n    File \"C:\\Users\\Bhavin\\AppData\\Local\\anaconda3\\Lib\\site-packages\\keras\\src\\engine\\training.py\", line 1080, in train_step\n        y_pred = self(x, training=True)\n    File \"C:\\Users\\Bhavin\\AppData\\Local\\anaconda3\\Lib\\site-packages\\keras\\src\\utils\\traceback_utils.py\", line 70, in error_handler\n        raise e.with_traceback(filtered_tb) from None\n    File \"C:\\Users\\Bhavin\\AppData\\Local\\anaconda3\\Lib\\site-packages\\keras\\src\\engine\\input_spec.py\", line 298, in assert_input_compatibility\n        raise ValueError(\n\n    ValueError: Input 1 of layer \"model_1\" is incompatible with the layer: expected shape=(None, 50), found shape=(None, 49)\n",
     "output_type": "error",
     "traceback": [
      "\u001b[1;31m---------------------------------------------------------------------------\u001b[0m",
      "\u001b[1;31mValueError\u001b[0m                                Traceback (most recent call last)",
      "Cell \u001b[1;32mIn[26], line 5\u001b[0m\n\u001b[0;32m      2\u001b[0m batch_size \u001b[38;5;241m=\u001b[39m \u001b[38;5;241m64\u001b[39m\n\u001b[0;32m      3\u001b[0m epochs \u001b[38;5;241m=\u001b[39m \u001b[38;5;241m50\u001b[39m\n\u001b[1;32m----> 5\u001b[0m model\u001b[38;5;241m.\u001b[39mfit(\n\u001b[0;32m      6\u001b[0m     [train_input, train_output[:, :\u001b[38;5;241m-\u001b[39m\u001b[38;5;241m1\u001b[39m]],\n\u001b[0;32m      7\u001b[0m     train_output[:, \u001b[38;5;241m1\u001b[39m:],\n\u001b[0;32m      8\u001b[0m     batch_size\u001b[38;5;241m=\u001b[39mbatch_size,\n\u001b[0;32m      9\u001b[0m     epochs\u001b[38;5;241m=\u001b[39mepochs,\n\u001b[0;32m     10\u001b[0m     validation_split\u001b[38;5;241m=\u001b[39m\u001b[38;5;241m0.1\u001b[39m,\n\u001b[0;32m     11\u001b[0m )\n",
      "File \u001b[1;32m~\\AppData\\Local\\anaconda3\\Lib\\site-packages\\keras\\src\\utils\\traceback_utils.py:70\u001b[0m, in \u001b[0;36mfilter_traceback.<locals>.error_handler\u001b[1;34m(*args, **kwargs)\u001b[0m\n\u001b[0;32m     67\u001b[0m     filtered_tb \u001b[38;5;241m=\u001b[39m _process_traceback_frames(e\u001b[38;5;241m.\u001b[39m__traceback__)\n\u001b[0;32m     68\u001b[0m     \u001b[38;5;66;03m# To get the full stack trace, call:\u001b[39;00m\n\u001b[0;32m     69\u001b[0m     \u001b[38;5;66;03m# `tf.debugging.disable_traceback_filtering()`\u001b[39;00m\n\u001b[1;32m---> 70\u001b[0m     \u001b[38;5;28;01mraise\u001b[39;00m e\u001b[38;5;241m.\u001b[39mwith_traceback(filtered_tb) \u001b[38;5;28;01mfrom\u001b[39;00m \u001b[38;5;28;01mNone\u001b[39;00m\n\u001b[0;32m     71\u001b[0m \u001b[38;5;28;01mfinally\u001b[39;00m:\n\u001b[0;32m     72\u001b[0m     \u001b[38;5;28;01mdel\u001b[39;00m filtered_tb\n",
      "File \u001b[1;32m~\\AppData\\Local\\Temp\\__autograph_generated_filem1wzs1y9.py:15\u001b[0m, in \u001b[0;36mouter_factory.<locals>.inner_factory.<locals>.tf__train_function\u001b[1;34m(iterator)\u001b[0m\n\u001b[0;32m     13\u001b[0m \u001b[38;5;28;01mtry\u001b[39;00m:\n\u001b[0;32m     14\u001b[0m     do_return \u001b[38;5;241m=\u001b[39m \u001b[38;5;28;01mTrue\u001b[39;00m\n\u001b[1;32m---> 15\u001b[0m     retval_ \u001b[38;5;241m=\u001b[39m ag__\u001b[38;5;241m.\u001b[39mconverted_call(ag__\u001b[38;5;241m.\u001b[39mld(step_function), (ag__\u001b[38;5;241m.\u001b[39mld(\u001b[38;5;28mself\u001b[39m), ag__\u001b[38;5;241m.\u001b[39mld(iterator)), \u001b[38;5;28;01mNone\u001b[39;00m, fscope)\n\u001b[0;32m     16\u001b[0m \u001b[38;5;28;01mexcept\u001b[39;00m:\n\u001b[0;32m     17\u001b[0m     do_return \u001b[38;5;241m=\u001b[39m \u001b[38;5;28;01mFalse\u001b[39;00m\n",
      "\u001b[1;31mValueError\u001b[0m: in user code:\n\n    File \"C:\\Users\\Bhavin\\AppData\\Local\\anaconda3\\Lib\\site-packages\\keras\\src\\engine\\training.py\", line 1338, in train_function  *\n        return step_function(self, iterator)\n    File \"C:\\Users\\Bhavin\\AppData\\Local\\anaconda3\\Lib\\site-packages\\keras\\src\\engine\\training.py\", line 1322, in step_function  **\n        outputs = model.distribute_strategy.run(run_step, args=(data,))\n    File \"C:\\Users\\Bhavin\\AppData\\Local\\anaconda3\\Lib\\site-packages\\keras\\src\\engine\\training.py\", line 1303, in run_step  **\n        outputs = model.train_step(data)\n    File \"C:\\Users\\Bhavin\\AppData\\Local\\anaconda3\\Lib\\site-packages\\keras\\src\\engine\\training.py\", line 1080, in train_step\n        y_pred = self(x, training=True)\n    File \"C:\\Users\\Bhavin\\AppData\\Local\\anaconda3\\Lib\\site-packages\\keras\\src\\utils\\traceback_utils.py\", line 70, in error_handler\n        raise e.with_traceback(filtered_tb) from None\n    File \"C:\\Users\\Bhavin\\AppData\\Local\\anaconda3\\Lib\\site-packages\\keras\\src\\engine\\input_spec.py\", line 298, in assert_input_compatibility\n        raise ValueError(\n\n    ValueError: Input 1 of layer \"model_1\" is incompatible with the layer: expected shape=(None, 50), found shape=(None, 49)\n"
     ]
    }
   ],
   "source": [
    "# Train the model\n",
    "batch_size = 64\n",
    "epochs = 50\n",
    "\n",
    "model.fit(\n",
    "    [train_input, train_output[:, :-1]],\n",
    "    train_output[:, 1:],\n",
    "    batch_size=batch_size,\n",
    "    epochs=epochs,\n",
    "    validation_split=0.1,\n",
    ")\n"
   ]
  },
  {
   "cell_type": "code",
   "execution_count": null,
   "id": "b59037fa",
   "metadata": {},
   "outputs": [],
   "source": []
  },
  {
   "cell_type": "code",
   "execution_count": null,
   "id": "b3c1926e",
   "metadata": {},
   "outputs": [],
   "source": []
  }
 ],
 "metadata": {
  "kernelspec": {
   "display_name": "Python 3 (ipykernel)",
   "language": "python",
   "name": "python3"
  },
  "language_info": {
   "codemirror_mode": {
    "name": "ipython",
    "version": 3
   },
   "file_extension": ".py",
   "mimetype": "text/x-python",
   "name": "python",
   "nbconvert_exporter": "python",
   "pygments_lexer": "ipython3",
   "version": "3.11.4"
  }
 },
 "nbformat": 4,
 "nbformat_minor": 5
}
