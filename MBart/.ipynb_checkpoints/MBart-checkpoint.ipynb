{
 "cells": [
  {
   "cell_type": "code",
   "execution_count": 1,
   "id": "c46f8903",
   "metadata": {},
   "outputs": [
    {
     "name": "stdout",
     "output_type": "stream",
     "text": [
      "Note: you may need to restart the kernel to use updated packages.\n",
      "Requirement already satisfied: sentencepiece in /home/bhavin/anaconda3/lib/python3.11/site-packages (0.1.99)\n",
      "Note: you may need to restart the kernel to use updated packages.\n",
      "transformers==4.32.1\n",
      "Note: you may need to restart the kernel to use updated packages.\n",
      "Requirement already satisfied: protobuf in /home/bhavin/anaconda3/lib/python3.11/site-packages (4.24.2)\n",
      "Note: you may need to restart the kernel to use updated packages.\n"
     ]
    }
   ],
   "source": [
    "%pip install transformers -U -q\n",
    "%pip install sentencepiece\n",
    "%pip freeze | grep transformers\n",
    "%pip install protobuf"
   ]
  },
  {
   "cell_type": "code",
   "execution_count": 2,
   "id": "a4e33d6b",
   "metadata": {},
   "outputs": [],
   "source": [
    "from transformers import MBartForConditionalGeneration, MBart50TokenizerFast"
   ]
  },
  {
   "cell_type": "code",
   "execution_count": 3,
   "id": "815632b6",
   "metadata": {},
   "outputs": [],
   "source": [
    "model = MBartForConditionalGeneration.from_pretrained(\"facebook/mbart-large-50-one-to-many-mmt\")"
   ]
  },
  {
   "cell_type": "code",
   "execution_count": null,
   "id": "9e189b8f",
   "metadata": {},
   "outputs": [],
   "source": [
    "tokenizer = MBart50TokenizerFast.from_pretrained(\"facebook/mbart-large-50-one-to-many-mmt\", src_lang=\"en_XX\")"
   ]
  }
 ],
 "metadata": {
  "kernelspec": {
   "display_name": "Python 3 (ipykernel)",
   "language": "python",
   "name": "python3"
  },
  "language_info": {
   "codemirror_mode": {
    "name": "ipython",
    "version": 3
   },
   "file_extension": ".py",
   "mimetype": "text/x-python",
   "name": "python",
   "nbconvert_exporter": "python",
   "pygments_lexer": "ipython3",
   "version": "3.11.4"
  }
 },
 "nbformat": 4,
 "nbformat_minor": 5
}
